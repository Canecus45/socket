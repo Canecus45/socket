{
 "cells": [
  {
   "cell_type": "markdown",
   "id": "59233129",
   "metadata": {},
   "source": [
    "# Indroduzione alle socket in python\n",
    "\n",
    "Le socket sono uno strumento importante per la comunicazione tra porcessi su una rete, sia su internet che su una rete locale. In *Python*, le scoket possono essere utilizzate sia per la comunicazione tramite il protocollo UDP (User Datagram Protocol), che è un protocollo di trasmissione di dati senza connessione, che TCP (Trasmissione Control Protocol) con connessione. Per creare una scoket in *Python* utilizzaimo il metodo socket() del modoulo socket. Il metodo accetta due parametri: la famiglia di indirizzi (ad esempio, socket.AF_INET per IPv4) e il tipo di socket (ad esempio, socket.SOCK_STREAM per TCP oppure socket.SOCK_DGRAM per UDP)"
   ]
  },
  {
   "cell_type": "markdown",
   "id": "d2f64195",
   "metadata": {},
   "source": [
    "# Socket UDP\n",
    "\n",
    "Le socket UDP sono utilizzate per inviare e ricevere pacchetti di dati tra due dispositivi senza l'instaurazione di una connessione prima della trasmissione dei dati. Questo rende le socket UDP molto utili per la trasmissione di dati in tempo reale come audio e video. Inoltre, il fatto che non ci sia una connessione pre-stabilita significa che le socket UDP sono adatte per la trasmissione di dati a più destinazioni contemporaneamente.\n",
    " \n",
    " In *Python*, il modulto socket fornisce un'interfaccia per creare e gestire le socket UDP. Le primitive principale che possono essere utilizzate con le socket UDP includono:\n",
    "\n",
    "1.  socket(): questa ufnzione viene utilizzate per creare una nuova socket UDP. Restituisce un oggetto socket che può essere utilizzato per inviare e ricevere dati."
   ]
  },
  {
   "cell_type": "code",
   "execution_count": null,
   "id": "1ee2b9e9",
   "metadata": {},
   "outputs": [],
   "source": [
    "import socket\n",
    "# Creazione socket UDP\n",
    "socket = socket.socket(socket.AF_INET, socket.SOCK_DGRAM)"
   ]
  },
  {
   "cell_type": "markdown",
   "id": "f906bc60",
   "metadata": {},
   "source": [
    "1.  bind(): questa funzione fiene usata per associare una socket ad un indirizzo e una porta specifici del server. Una volta associata, la socket sarà in grado di ricere i dati inviati a quell'intdirizzo e porta specifici. Il metodo accetta un parametro, una tupla contenete l'indirizzo IP e il numero di porta"
   ]
  },
  {
   "cell_type": "code",
   "execution_count": null,
   "id": "a7c6608d",
   "metadata": {},
   "outputs": [],
   "source": [
    "# Associazione della socket all'indirizzo e alla porta del server\n",
    "server_address=('127.0.0.1', 10000)\n",
    "socket.bind(server_address)"
   ]
  },
  {
   "cell_type": "markdown",
   "id": "fdee56de",
   "metadata": {},
   "source": [
    "1.  sendto(): questa funzione viene usata per inviare un messaggio a un indirizzo e una porta speficifici. In una socket UDP, il messaggio inviato viene suddiviso in pacchetti e invato tramite la rete. Non viene effettuato alcun controllo sulla ricezione del messaggio."
   ]
  },
  {
   "cell_type": "code",
   "execution_count": null,
   "id": "371e5958",
   "metadata": {},
   "outputs": [],
   "source": [
    "# Invio di un messaggio alla socket del client\n",
    "message=b'Hello client'\n",
    "client_address=('localhost',10001)\n",
    "socket.sendto(message,client_address)"
   ]
  },
  {
   "cell_type": "markdown",
   "id": "9e2aaa2c",
   "metadata": {},
   "source": [
    "4.  recvfrom(): questa funzione viene utilizzata per ricevere un messaggio inviato a una socket specifica. Essaa restituisce il messaggio ricevuto e l'indirizzo e la porta del mittente del messaggio."
   ]
  },
  {
   "cell_type": "code",
   "execution_count": null,
   "id": "76b6bdb4",
   "metadata": {},
   "outputs": [],
   "source": [
    "# Ricezione di un messaggio della socket del client\n",
    "data,address=socket.recvfrom(4096)"
   ]
  },
  {
   "cell_type": "markdown",
   "id": "490cbaf0",
   "metadata": {},
   "source": [
    "Esempio completo di un server e un client che comunicato tramite socket UDP in Python protrebbe essere il seguente:\n",
    "\n",
    "**NB: IL CODICE VA ESEGUITO IN LOCALE**"
   ]
  },
  {
   "cell_type": "code",
   "execution_count": null,
   "id": "32c9216d",
   "metadata": {},
   "outputs": [],
   "source": [
    "import socket\n",
    "\n",
    "SERVER_IP='127.0.0.1'\n",
    "SERVER_PORT=50005\n",
    "BUFFER_SIZE=1024\n",
    "\n",
    "# Creazione del socket\n",
    "sock= socket.socket(socket.AF_INET,socket.SOCK_DGRAM)\n",
    "sock.bind((SERVER_IP,SERVER_PORT))\n",
    "\n",
    "print(\"Server in attesa di messaggi...\")\n",
    "\n",
    "while True:\n",
    "    # Ricezione dei dati dal client\n",
    "    data,addr=sock.recvfrom(BUFFER_SIZE)\n",
    "    print(\"Mesaggio ricevuto dal client {addr}: {datadecode()}\")\n",
    "\n",
    "    # Invio di una risposta al client\n",
    "    reply = \"pong\"\n",
    "    sock.sendto(reply.encode(), addr)"
   ]
  },
  {
   "cell_type": "code",
   "execution_count": null,
   "id": "00e39e3e",
   "metadata": {},
   "outputs": [],
   "source": [
    "import socket\n",
    "\n",
    "SERVER_IP='127.0.0.1'\n",
    "SERVER_PORT=50005\n",
    "BUFFER_SIZE=1024\n",
    "NUM_MESSAGES=5\n",
    "\n",
    "# Creazione dei socket\n",
    "sock= socket.socket(socket.AF_INET,socket.SOCK_DGRAM)\n",
    "\n",
    "for i in range(NUM_MESSAGES):\n",
    "    # Invio del messaggio al server \n",
    "    message=\"ping\"\n",
    "    sock.sendto(message.encode(),(SERVER_IP,SERVER_PORT))\n",
    "    print(\"Messaggio inviato al server: {message}\")\n",
    "\n",
    "    # Ricezione della risposta dal server\n",
    "    data,addr=sock.recvfrom(BUFFER_SIZE)\n",
    "    print(\"Messaggio ricevuto dal server {addr}: {data.deocde()}\")\n",
    "\n",
    "# Chiusura del socket\n",
    "sock.close"
   ]
  }
 ],
 "metadata": {
  "kernelspec": {
   "display_name": "Python 3",
   "language": "python",
   "name": "python3"
  },
  "language_info": {
   "name": "python",
   "version": "3.8.10"
  }
 },
 "nbformat": 4,
 "nbformat_minor": 5
}
